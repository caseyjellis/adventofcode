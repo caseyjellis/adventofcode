{
 "cells": [
  {
   "cell_type": "markdown",
   "metadata": {},
   "source": [
    "# Day 5: Hydrothermal Venture\n",
    "\n",
    "### part 1:\n",
    "* given endpoints of lines, find where at least two or more points overlap"
   ]
  },
  {
   "cell_type": "code",
   "execution_count": 2,
   "metadata": {},
   "outputs": [
    {
     "name": "stdout",
     "output_type": "stream",
     "text": [
      "part 1:  5306\n"
     ]
    }
   ],
   "source": [
    "import numpy as np\n",
    "\n",
    "vent_grid = np.zeros((1000, 1000))\n",
    "\n",
    "\n",
    "with open('input') as f:\n",
    "    for l in f:\n",
    "        a, b = l.split(\" -> \")\n",
    "        x1, y1 = map(int, a.split(\",\"))\n",
    "        x2, y2 = map(int, b.split(\",\"))\n",
    "\n",
    "        #if the x values dont change (the line is straight up), imcrement all the values from (x,y1) to (x,y2) on the grid\n",
    "        if abs(x1-x2) == 0:\n",
    "            vent_grid[x1, min(y1,y2):max(y1,y2)+1] += 1\n",
    "        #otherwise, the line must be horizontal, so increment along (x1, y):(x2, y)\n",
    "        #actually had to check here, apparently some lines are neither horizontal nor vertical. part 2 foreshadowing?\n",
    "        elif abs(y1-y2) == 0:\n",
    "            vent_grid[min(x1,x2):max(x1,x2)+1, y1] += 1\n",
    "\n",
    "\n",
    "print('part 1: ',(vent_grid >= 2).sum())"
   ]
  },
  {
   "cell_type": "markdown",
   "metadata": {},
   "source": [
    "### part 2\n",
    "*  yup, part 1 but with diagonals"
   ]
  },
  {
   "cell_type": "code",
   "execution_count": 3,
   "metadata": {},
   "outputs": [
    {
     "name": "stdout",
     "output_type": "stream",
     "text": [
      "part 2:  17787\n"
     ]
    }
   ],
   "source": [
    "vent_grid = np.zeros((1000, 1000))\n",
    "\n",
    "\n",
    "with open('input') as f:\n",
    "    for l in f:\n",
    "        a, b = l.split(\" -> \")\n",
    "        x1, y1 = map(int, a.split(\",\"))\n",
    "        x2, y2 = map(int, b.split(\",\"))\n",
    "\n",
    "        if abs(x1-x2) == 0:\n",
    "            vent_grid[x1, min(y1,y2):max(y1,y2)+1] += 1\n",
    "        elif abs(y1-y2) == 0:\n",
    "            vent_grid[min(x1,x2):max(x1,x2)+1, y1] += 1\n",
    "        \n",
    "        #here we want to take the diagonals and incement one endpoint towards the other\n",
    "        #so for x1 and y1, we determine if they are more or less than x2 & y2, then move them one step that direction each loop\n",
    "        #incrementing the vent grid every time we take a step\n",
    "        \n",
    "        else:\n",
    "            if x1>x2: x3 = -1 \n",
    "            else: x3=1\n",
    "            if y1>y2: y3 = -1 \n",
    "            else: y3=1    \n",
    "            \n",
    "            while x1!=x2 and y1!=y2:\n",
    "                vent_grid[x1,y1] += 1\n",
    "                x1+=x3\n",
    "                y1+=y3\n",
    "            vent_grid[x1,y1] += 1\n",
    "            \n",
    "print('part 2: ',(vent_grid >= 2).sum())"
   ]
  }
 ],
 "metadata": {
  "kernelspec": {
   "display_name": "Python 3",
   "language": "python",
   "name": "python3"
  },
  "language_info": {
   "codemirror_mode": {
    "name": "ipython",
    "version": 3
   },
   "file_extension": ".py",
   "mimetype": "text/x-python",
   "name": "python",
   "nbconvert_exporter": "python",
   "pygments_lexer": "ipython3",
   "version": "3.8.3"
  }
 },
 "nbformat": 4,
 "nbformat_minor": 4
}
