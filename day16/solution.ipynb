{
 "cells": [
  {
   "cell_type": "markdown",
   "metadata": {},
   "source": [
    "# Day 16: Packet Decoder \n",
    "\n",
    "### part 1:\n",
    "* given a string in hex, decode it"
   ]
  },
  {
   "cell_type": "code",
   "execution_count": 88,
   "metadata": {
    "tags": []
   },
   "outputs": [],
   "source": [
    "import copy\n",
    "from collections import defaultdict"
   ]
  },
  {
   "cell_type": "code",
   "execution_count": 260,
   "metadata": {
    "tags": []
   },
   "outputs": [],
   "source": [
    "with open('test.txt') as f:\n",
    "        input = f.read().strip()\n",
    "packets = bin(int(input, 16))[2:].zfill(len(input) * 4)"
   ]
  },
  {
   "cell_type": "code",
   "execution_count": 262,
   "metadata": {},
   "outputs": [],
   "source": [
    "def get_values(vals):\n",
    "    v = ''\n",
    "    while len(vals)>=5:\n",
    "        v = v + vals[1:5]\n",
    "        vals = vals[5:]\n",
    "    return v\n",
    "    "
   ]
  },
  {
   "cell_type": "code",
   "execution_count": 308,
   "metadata": {},
   "outputs": [],
   "source": [
    "def read_n_bits(pkts, vs):\n",
    "    l_proc = int(pkts[:15], 2)\n",
    "    l_tot = 0\n",
    "    v = None\n",
    "    \n",
    "    while l_proc != l_tot\n",
    "        process_packets(pkts, vs)\n",
    "    \n",
    "    print(l)"
   ]
  },
  {
   "cell_type": "code",
   "execution_count": 309,
   "metadata": {},
   "outputs": [],
   "source": [
    "def read_n_subpkts(pkts, vs):\n",
    "    print('n more subpackets')\n",
    "    print(pkts, vs)\n"
   ]
  },
  {
   "cell_type": "code",
   "execution_count": 305,
   "metadata": {},
   "outputs": [],
   "source": [
    "def process_packets(pkt, vs=[]):\n",
    "    print()\n",
    "    print('pkt', pkt)\n",
    "    \n",
    "    version = pkt[:3]\n",
    "    vs.append(int(version, 2)) \n",
    "    typeID = int(pkt[3:6], 2)\n",
    "    \n",
    "    print('version, typeID:', version, typeID)\n",
    "    \n",
    "    if typeID == 4:  \n",
    "        get_values(pkt[6:])\n",
    "    else: \n",
    "        ltID  = int(pkt[6], 2) \n",
    "        print('ltID', ltID)\n",
    "        subpkts = pkt[7:]\n",
    "        \n",
    "        if ltID  ==0: \n",
    "            read_n_bits(subpkts, vs)\n",
    "        elif ltID == 1: \n",
    "            read_n_subpkts(subpkts, vs)\n",
    "        \n",
    "\n",
    "    return vs"
   ]
  },
  {
   "cell_type": "code",
   "execution_count": 310,
   "metadata": {},
   "outputs": [
    {
     "name": "stdout",
     "output_type": "stream",
     "text": [
      "\n",
      "pkt 00111000000000000110111101000101001010010001001000000000\n",
      "version, typeID: 001 6\n",
      "ltID 0\n",
      "27\n"
     ]
    },
    {
     "data": {
      "text/plain": [
       "[1, 7, 1]"
      ]
     },
     "execution_count": 310,
     "metadata": {},
     "output_type": "execute_result"
    }
   ],
   "source": [
    "test = '00111000000000000110111101000101001010010001001000000000'\n",
    "process_packets(test)"
   ]
  },
  {
   "cell_type": "code",
   "execution_count": null,
   "metadata": {},
   "outputs": [],
   "source": []
  },
  {
   "cell_type": "code",
   "execution_count": null,
   "metadata": {},
   "outputs": [],
   "source": []
  }
 ],
 "metadata": {
  "kernelspec": {
   "display_name": "Python 3",
   "language": "python",
   "name": "python3"
  },
  "language_info": {
   "codemirror_mode": {
    "name": "ipython",
    "version": 3
   },
   "file_extension": ".py",
   "mimetype": "text/x-python",
   "name": "python",
   "nbconvert_exporter": "python",
   "pygments_lexer": "ipython3",
   "version": "3.8.3"
  }
 },
 "nbformat": 4,
 "nbformat_minor": 4
}
