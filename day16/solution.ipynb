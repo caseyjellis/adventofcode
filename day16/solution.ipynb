{
 "cells": [
  {
   "cell_type": "markdown",
   "metadata": {},
   "source": [
    "# Day 16: Packet Decoder \n",
    "\n",
    "### part 1:\n",
    "* given a string in hex, decode it\n",
    "1. convert from hex to binary\n",
    "2. the first three binary bits are the version number, which we use to compute the score\n",
    "3. the next three bits are the packet type ID \n",
    "    * if the packet type is 4, we packet is literal and we find the value of the remaining bits\n",
    "        * the remaining bits are clustered in groups of 5\n",
    "        * if the first digit of the group is a 1, it is not the last cluster. if it is 0, it is the last cluster\n",
    "        * the 2-5th digits of the clusters form the actual values, in binary\n",
    "    * if the packet type is any other, it contains an operator\n",
    "4. If an operator is present, the packets contain sub-packets\n",
    "    * the 7th bit determines the number or length of the subpackets\n",
    "    * a 0 indicates the next 15 bits are a number that is the length of the subpacket(s) in bits\n",
    "    * a 0 indicates the next 11 bits are a number that is the number of remaining subpacket(s) \n",
    "    "
   ]
  },
  {
   "cell_type": "code",
   "execution_count": 78,
   "metadata": {
    "tags": []
   },
   "outputs": [],
   "source": [
    "import copy\n",
    "from collections import defaultdict\n",
    "import math\n",
    "from operator import add, mul, gt, lt, eq"
   ]
  },
  {
   "cell_type": "code",
   "execution_count": 79,
   "metadata": {
    "tags": []
   },
   "outputs": [],
   "source": [
    "with open('input') as f:\n",
    "        input = f.read().strip()\n",
    "packets = bin(int(input, 16))[2:].zfill(len(input) * 4)"
   ]
  },
  {
   "cell_type": "code",
   "execution_count": 122,
   "metadata": {},
   "outputs": [],
   "source": [
    "def get_values(pkt, i):\n",
    "    val = \"\"\n",
    "    while True:\n",
    "        p = pkt[i:i+1]\n",
    "        val += pkt[i:i+5]\n",
    "        i += 5\n",
    "        if p == \"0\":\n",
    "            break\n",
    "\n",
    "    return int(val, base=2), i "
   ]
  },
  {
   "cell_type": "code",
   "execution_count": 126,
   "metadata": {},
   "outputs": [],
   "source": [
    "def proc_pkt(pkt):\n",
    "    i = 0\n",
    "    score = []\n",
    "    \n",
    "    while i < len(pkt):\n",
    "        if int(pkt[i:]) == 0:\n",
    "            break\n",
    "            \n",
    "        version = int(pkt[i:i+3], base=2)\n",
    "        i += 3\n",
    "        score.append(version)\n",
    "        \n",
    "        typeID = int(pkt[i:i+3], base=2)\n",
    "        i += 3\n",
    "\n",
    "        if typeID == 4:\n",
    "            vals, i = get_values(pkt, i)\n",
    "        else:\n",
    "            ltID =pkt[i]\n",
    "            i += 1\n",
    "\n",
    "            if ltID == '0':\n",
    "                i += 15\n",
    "\n",
    "            elif ltID == '1':\n",
    "                i += 11\n",
    "\n",
    "    return(score)"
   ]
  },
  {
   "cell_type": "code",
   "execution_count": 127,
   "metadata": {},
   "outputs": [
    {
     "data": {
      "text/plain": [
       "12"
      ]
     },
     "execution_count": 127,
     "metadata": {},
     "output_type": "execute_result"
    }
   ],
   "source": [
    "#input = '8A004A801A8002F478' #16\n",
    "input = '620080001611562C8802118E34' #12\n",
    "#input = 'C0015000016115A2E0802F182340' #23\n",
    "#input = 'A0016C880162017C3686B18A3D4780' #31\n",
    "test = bin(int(input, 16))[2:].zfill(len(input) * 4)\n",
    "sum(proc_pkt(test))"
   ]
  },
  {
   "cell_type": "code",
   "execution_count": 128,
   "metadata": {},
   "outputs": [
    {
     "name": "stdout",
     "output_type": "stream",
     "text": [
      "part 1: 854\n"
     ]
    }
   ],
   "source": [
    "print('part 1:', sum(proc_pkt(packets)))"
   ]
  },
  {
   "cell_type": "markdown",
   "metadata": {},
   "source": [
    "### part 2\n",
    "\n",
    "* now that the packets are decoded, we need to know their values\n",
    "* typeID 4 are literals, as already seen\n",
    "* typeID 1 are product packets\n",
    "    * their value is the product of their subpackets\n",
    "* typeID 2 are minimum\n",
    "* typeID 3 are maximum\n",
    "* typeID 5 are greater than\n",
    "    * 1 if the value of the first subpacket is greater than the value of the second, otherwise 0\n",
    "* typeID 6 are less than\n",
    "    * 1 if the first subpacket is less than the second, otherwise 0\n",
    "* typeID 7 are equal to\n",
    "    * 1 if the subpackets are equal, otherwise 0"
   ]
  },
  {
   "cell_type": "code",
   "execution_count": 146,
   "metadata": {},
   "outputs": [],
   "source": [
    "def proc_pkt_val(pkt, i=0):\n",
    "    while i < len(pkt):\n",
    "        if int(pkt[i:], base=2) == 0:\n",
    "            break\n",
    "            \n",
    "        version = int(pkt[i:i+3], base=2)\n",
    "        i += 3\n",
    "        \n",
    "        typeID = int(pkt[i:i+3], base=2)\n",
    "        i += 3\n",
    "\n",
    "        if typeID == 4:\n",
    "            i, vals = get_values(i, pkt)\n",
    "            score.append(vals)\n",
    "            score = sum(score)\n",
    "           \n",
    "        else:\n",
    "            f = [add, mul, min, max, get_values, gt, lt ,eq][typeID]\n",
    "            queue.append(f)\n",
    "            \n",
    "            ltID = pkt[i]\n",
    "            i += 1\n",
    "\n",
    "            if ltID == '0':\n",
    "                num_bits = int(pkt[i:i+15], base=2)\n",
    "                i+=15\n",
    "                #proc_n_bits(pkt, i, num_bits)\n",
    "                \n",
    "\n",
    "            elif ltID == '1':\n",
    "                num_subpkts = int(pkt[i:i+11], base=2)\n",
    "                i+=11\n",
    "                #proc_n_subpkts(pkt, i, num_subpkts)\n",
    "\n",
    "    return(score)"
   ]
  },
  {
   "cell_type": "code",
   "execution_count": null,
   "metadata": {},
   "outputs": [],
   "source": [
    "def proc_n_bits(pkt, i, num_bits): "
   ]
  },
  {
   "cell_type": "code",
   "execution_count": null,
   "metadata": {},
   "outputs": [],
   "source": [
    "def proc_n_subpkts(pkt, i, num_subpkts):  "
   ]
  },
  {
   "cell_type": "code",
   "execution_count": 148,
   "metadata": {},
   "outputs": [],
   "source": [
    "#input = 'C200B40A82' #3\n",
    "#input = '620080001611562C8802118E34' #12\n",
    "#input = 'C0015000016115A2E0802F182340' #23\n",
    "#input = 'A0016C880162017C3686B18A3D4780' #31\n",
    "#test = bin(int(input, 16))[2:].zfill(len(input) * 4)\n",
    "#proc_pkt_val(test)"
   ]
  },
  {
   "cell_type": "code",
   "execution_count": null,
   "metadata": {},
   "outputs": [],
   "source": []
  }
 ],
 "metadata": {
  "kernelspec": {
   "display_name": "Python 3",
   "language": "python",
   "name": "python3"
  },
  "language_info": {
   "codemirror_mode": {
    "name": "ipython",
    "version": 3
   },
   "file_extension": ".py",
   "mimetype": "text/x-python",
   "name": "python",
   "nbconvert_exporter": "python",
   "pygments_lexer": "ipython3",
   "version": "3.8.3"
  }
 },
 "nbformat": 4,
 "nbformat_minor": 4
}
