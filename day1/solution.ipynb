{
 "cells": [
  {
   "cell_type": "code",
   "execution_count": 8,
   "metadata": {},
   "outputs": [
    {
     "name": "stdout",
     "output_type": "stream",
     "text": [
      "part 1:  1791\n",
      "part 2:  1822\n"
     ]
    }
   ],
   "source": [
    "# Day 1: Sonar Sweep\n",
    "## count the number of times a depth measurement increases from the previous measurement. \n",
    "\n",
    "with open('input') as f:\n",
    "    inpts = [int(n.strip()) for n in f.readlines()]\n",
    "\n",
    "#part 1\n",
    "print('part 1: ', sum([1 for i in range(1, len(inpts)) if inpts[i] > inpts[i-1]]))\n",
    "\n",
    "#Part 2\n",
    "print('part 2: ', sum(i1 < i2 for i1, i2 in zip(inpts, inpts[3:])))"
   ]
  },
  {
   "cell_type": "code",
   "execution_count": null,
   "metadata": {},
   "outputs": [],
   "source": []
  }
 ],
 "metadata": {
  "kernelspec": {
   "display_name": "Python 3",
   "language": "python",
   "name": "python3"
  },
  "language_info": {
   "codemirror_mode": {
    "name": "ipython",
    "version": 3
   },
   "file_extension": ".py",
   "mimetype": "text/x-python",
   "name": "python",
   "nbconvert_exporter": "python",
   "pygments_lexer": "ipython3",
   "version": "3.8.3"
  }
 },
 "nbformat": 4,
 "nbformat_minor": 4
}
