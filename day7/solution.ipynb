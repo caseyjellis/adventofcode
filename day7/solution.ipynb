{
 "cells": [
  {
   "cell_type": "markdown",
   "metadata": {},
   "source": [
    "# Day 7:  The Treachery of Whales \n",
    "\n",
    "### part 1:\n",
    "* we have crabs in subamrines that need to align themselves horizontally\n",
    "* given a list of positons, find the position between them that has the shortest distance from all points\n",
    "* how much fuel does it take for the crabs to align themselves? 1 unit of movement is one unit if fuel"
   ]
  },
  {
   "cell_type": "code",
   "execution_count": 1,
   "metadata": {},
   "outputs": [],
   "source": [
    "import numpy as np"
   ]
  },
  {
   "cell_type": "code",
   "execution_count": 5,
   "metadata": {},
   "outputs": [],
   "source": [
    "import numpy as np\n",
    "\n",
    "with open('input') as f:\n",
    "    crabs = list(map(int, f.read().split(\",\")))"
   ]
  },
  {
   "cell_type": "code",
   "execution_count": 6,
   "metadata": {},
   "outputs": [],
   "source": [
    "def move_crabs(lst):\n",
    "    vals = set(lst)\n",
    "\n",
    "    pos = min(vals, key=lambda s: sum(abs(c-s) for c in lst))\n",
    "\n",
    "    return(sum(abs(c-pos) for c in lst))"
   ]
  },
  {
   "cell_type": "code",
   "execution_count": 7,
   "metadata": {},
   "outputs": [
    {
     "name": "stdout",
     "output_type": "stream",
     "text": [
      "part 1:  340987\n"
     ]
    }
   ],
   "source": [
    "print('part 1: ', move_crabs(crabs))"
   ]
  },
  {
   "cell_type": "markdown",
   "metadata": {},
   "source": [
    "### part 2:\n",
    "* now, each unit of movement costs one unit extra of fuel\n",
    "* ie. the first move costs 1 fuel, the second 2, the first 3, etc. \n",
    "* how much does the most efficient path cost now?"
   ]
  },
  {
   "cell_type": "code",
   "execution_count": 8,
   "metadata": {},
   "outputs": [],
   "source": [
    "#define the cost of moving\n",
    "def cost(pos1, pos2):\n",
    "    d = abs(pos1-pos2)\n",
    "    return (d * (d + 1) // 2)"
   ]
  },
  {
   "cell_type": "code",
   "execution_count": 9,
   "metadata": {},
   "outputs": [],
   "source": [
    "def move_crabs(crab_pos):\n",
    "    \n",
    "    pmin = min(crab_pos)\n",
    "    pmax = max(crab_pos)\n",
    "    \n",
    "    #create a dictionary with each possible value for position as the keys\n",
    "    pos_dict = dict(zip(range(pmin, pmax +1), np.zeros((pmax-pmin+1),dtype = 'int64')))\n",
    "        \n",
    "    #find the cost of each crab moving to each possible value\n",
    "    for pos in pos_dict:\n",
    "        for crab in crab_pos:\n",
    "            c = cost(pos, crab)\n",
    "            pos_dict[pos]+=c\n",
    "    \n",
    "    #treturn the smallest cost\n",
    "    return(min(pos_dict.values()))"
   ]
  },
  {
   "cell_type": "code",
   "execution_count": null,
   "metadata": {},
   "outputs": [],
   "source": [
    "print('part 2: ', move_crabs(crabs))"
   ]
  },
  {
   "cell_type": "code",
   "execution_count": null,
   "metadata": {},
   "outputs": [],
   "source": [
    "#notes to self:\n",
    "#- rework with the min/lambda mapping like in part 1"
   ]
  },
  {
   "cell_type": "code",
   "execution_count": null,
   "metadata": {},
   "outputs": [],
   "source": []
  },
  {
   "cell_type": "code",
   "execution_count": null,
   "metadata": {},
   "outputs": [],
   "source": []
  }
 ],
 "metadata": {
  "kernelspec": {
   "display_name": "Python 3",
   "language": "python",
   "name": "python3"
  },
  "language_info": {
   "codemirror_mode": {
    "name": "ipython",
    "version": 3
   },
   "file_extension": ".py",
   "mimetype": "text/x-python",
   "name": "python",
   "nbconvert_exporter": "python",
   "pygments_lexer": "ipython3",
   "version": "3.8.3"
  }
 },
 "nbformat": 4,
 "nbformat_minor": 4
}
