{
 "cells": [
  {
   "cell_type": "markdown",
   "metadata": {},
   "source": [
    "# Day 6: Lanternfish \n",
    "\n",
    "### part 1:\n",
    "* input is a list of values that decrement daily, until zero\n",
    "* after hitting zero, they reset to six and spawn one new 8 value at the end of the list\n",
    "* how many fish after 80 days?"
   ]
  },
  {
   "cell_type": "code",
   "execution_count": 193,
   "metadata": {},
   "outputs": [],
   "source": [
    "import numpy as np\n",
    "\n",
    "with open('input') as f:\n",
    "    fish = list(map(int, f.read().split(\",\")))"
   ]
  },
  {
   "cell_type": "markdown",
   "metadata": {},
   "source": [
    "For this I did not want to actually iterate through the list every day. Instad I made a dictionary of the values and tracked how many fish were at each day.\n",
    "\n",
    "The dictionary has one extra value at 9, so that when the day happens and the fish move to one value lower in the dictionary, the day 8 count gets set back to 0.\n",
    "\n",
    "Then, the fish from day 0 are added at day 8 and day 6. "
   ]
  },
  {
   "cell_type": "code",
   "execution_count": 194,
   "metadata": {},
   "outputs": [],
   "source": [
    "def breed_fish(fishes, days):\n",
    "    fish_list = dict(zip(range(0, 10), np.zeros(10,dtype = 'int64')))\n",
    "    \n",
    "    for x in fishes:\n",
    "        fish_list[x] += 1\n",
    "        \n",
    "    for n in range(days):\n",
    "        zeroes = fish_list[0]\n",
    "        \n",
    "        for i in range(1, 10):\n",
    "            fish_list[i-1] = fish_list[i]\n",
    "            \n",
    "        fish_list[6] += zeroes\n",
    "        fish_list[8] += zeroes\n",
    "        \n",
    "    return(sum(fish_list.values()))"
   ]
  },
  {
   "cell_type": "code",
   "execution_count": 195,
   "metadata": {},
   "outputs": [
    {
     "name": "stdout",
     "output_type": "stream",
     "text": [
      "part 1:  350917\n"
     ]
    }
   ],
   "source": [
    "print('part 1: ',breed_fish(fish, 80))"
   ]
  },
  {
   "cell_type": "markdown",
   "metadata": {},
   "source": [
    "### part 2;\n",
    "* will they take over the ocean?\n",
    "* cound the fish after 254 days"
   ]
  },
  {
   "cell_type": "markdown",
   "metadata": {},
   "source": [
    "For part 2, it makes sense to have written this with a dict instead of iterating through a list. 80 days is managable, but for 256 days of exponential growth the result would definitely take some time to compute. Using the dict, there is no noticable different in the time taken to calculate 80 days vs 256. "
   ]
  },
  {
   "cell_type": "code",
   "execution_count": 196,
   "metadata": {},
   "outputs": [
    {
     "name": "stdout",
     "output_type": "stream",
     "text": [
      "part 2:  1592918715629\n"
     ]
    }
   ],
   "source": [
    "print('part 2: ',breed_fish(fish, 256))"
   ]
  }
 ],
 "metadata": {
  "kernelspec": {
   "display_name": "Python 3",
   "language": "python",
   "name": "python3"
  },
  "language_info": {
   "codemirror_mode": {
    "name": "ipython",
    "version": 3
   },
   "file_extension": ".py",
   "mimetype": "text/x-python",
   "name": "python",
   "nbconvert_exporter": "python",
   "pygments_lexer": "ipython3",
   "version": "3.8.3"
  }
 },
 "nbformat": 4,
 "nbformat_minor": 4
}
