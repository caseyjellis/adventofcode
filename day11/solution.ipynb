{
 "cells": [
  {
   "cell_type": "markdown",
   "metadata": {},
   "source": [
    "# Day 11: Dumbo Octopus\n",
    "\n",
    "### part 1:\n",
    "* we can view the energy levels of octopus as a grid, with each value between 0 and 9\n",
    "* You can model the energy levels and flashes of light in steps. During a single step, the following occurs:\n",
    "    * First, the energy level of each octopus increases by 1.\n",
    "    * Then, any octopus with an energy level greater than 9 flashes. This increases the energy level of all adjacent octopuses by 1, including octopuses that are diagonally adjacent. If this causes an octopus to have an energy level greater than 9, it also flashes. This process continues as long as new octopuses keep having their energy level increased beyond 9. (An octopus can only flash at most once per step.)\n",
    "    * Finally, any octopus that flashed during this step has its energy level set to 0, as it used all of its energy to flash.\n"
   ]
  },
  {
   "cell_type": "code",
   "execution_count": 1,
   "metadata": {
    "tags": []
   },
   "outputs": [],
   "source": [
    "import numpy as np\n",
    "import copy\n",
    "import math\n",
    "import statistics"
   ]
  },
  {
   "cell_type": "code",
   "execution_count": 2,
   "metadata": {
    "tags": []
   },
   "outputs": [],
   "source": [
    "with open('input') as f:\n",
    "    octopuses = list(map(lambda n: [int(x) for x in list(n.strip())], f.readlines()))"
   ]
  },
  {
   "cell_type": "code",
   "execution_count": 3,
   "metadata": {},
   "outputs": [],
   "source": [
    "w = len(octopuses[0])\n",
    "l = len(octopuses)"
   ]
  },
  {
   "cell_type": "code",
   "execution_count": 4,
   "metadata": {},
   "outputs": [],
   "source": [
    "def get_adj(x, y):\n",
    "    pts = []\n",
    "    for x1, y1 in  [(-1, -1),(-1, 0),(-1, 1),(0, -1),(0, 1),(1, -1),(1, 0),(1, 1),]:\n",
    "        if 0 <= x + x1 < w and 0 <= y + y1 < l:\n",
    "            pts.append((x + x1, y + y1 ))\n",
    "    return pts"
   ]
  },
  {
   "cell_type": "code",
   "execution_count": 5,
   "metadata": {},
   "outputs": [],
   "source": [
    "\n",
    "def flash_step(x, y, grid, flashed):\n",
    "    #when one octopus flashes, we have to also increment the adjacent octopuses \n",
    "    for x1, y1 in get_adj(x, y):\n",
    "        \n",
    "        #first, an octopus can only flash once, so we have to make sure we dont touch it if it's already been flashed\n",
    "        if (x1, y1) in flashed:\n",
    "            continue\n",
    "            \n",
    "         #if it  hasn't flashed yet, we'll increment it  \n",
    "        else:\n",
    "            grid[y1][x1] += 1 \n",
    "            \n",
    "            #then we check to see if increasing the energy caused this point to also flash. if so, the process repeats with the new point\n",
    "            global score\n",
    "            if grid[y1][x1] > 9:\n",
    "                score += 1\n",
    "                flashed.add((x1, y1))\n",
    "                grid[y1][x1] = 0\n",
    "                flash_step(x1, y1, grid, flashed)\n"
   ]
  },
  {
   "cell_type": "code",
   "execution_count": 6,
   "metadata": {},
   "outputs": [],
   "source": [
    "days=100\n",
    "global score\n",
    "score=0\n",
    "oct_working = copy.deepcopy(octopuses)"
   ]
  },
  {
   "cell_type": "code",
   "execution_count": 7,
   "metadata": {},
   "outputs": [],
   "source": [
    "for i in range(days):\n",
    "    #first increment all spaces in the grid\n",
    "    for y in range(l):\n",
    "        for x in range(w):\n",
    "            oct_working[y][x] += 1\n",
    "            \n",
    "    flashed = set()\n",
    "    for y in range(l):\n",
    "        for x in range(w):\n",
    "            #if any space is over a 9, flash it. \n",
    "            #this will also set off any other spaces that are above the threshhold, but each can only flash once each step\n",
    "            if oct_working[y][x] > 9: \n",
    "                flashed.add((x, y))\n",
    "                oct_working[y][x] = 0\n",
    "                score += 1\n",
    "                flash_step(x, y, oct_working, flashed)"
   ]
  },
  {
   "cell_type": "code",
   "execution_count": 13,
   "metadata": {},
   "outputs": [
    {
     "name": "stdout",
     "output_type": "stream",
     "text": [
      "part 1:  7016\n"
     ]
    }
   ],
   "source": [
    "print('part 1: ',score)"
   ]
  },
  {
   "cell_type": "markdown",
   "metadata": {},
   "source": [
    "### part 2:\n",
    "* calculate the first step in which all octopuses flash together "
   ]
  },
  {
   "cell_type": "code",
   "execution_count": 9,
   "metadata": {},
   "outputs": [],
   "source": [
    "unsync = True\n",
    "counter = 0\n",
    "oct_working = copy.deepcopy(octopuses)"
   ]
  },
  {
   "cell_type": "code",
   "execution_count": 10,
   "metadata": {},
   "outputs": [],
   "source": [
    "while unsync:\n",
    "    counter += 1\n",
    "    total = 0\n",
    "    \n",
    "    for y in range(l):\n",
    "        for x in range(w):\n",
    "            oct_working[y][x] += 1\n",
    "    \n",
    "    flashed = set()\n",
    "    for y in range(l):\n",
    "        for x in range(w):\n",
    "            if oct_working[y][x] > 9: \n",
    "                flashed.add((x, y))\n",
    "                oct_working[y][x] = 0\n",
    "                score += 1\n",
    "                flash_step(x, y, oct_working, flashed)\n",
    "        total += sum(oct_working[y])\n",
    "        \n",
    "    if total==0: unsync = False\n",
    "                \n"
   ]
  },
  {
   "cell_type": "code",
   "execution_count": 12,
   "metadata": {},
   "outputs": [
    {
     "name": "stdout",
     "output_type": "stream",
     "text": [
      "part 2:  324\n"
     ]
    }
   ],
   "source": [
    "print('part 2: ',counter)"
   ]
  },
  {
   "cell_type": "code",
   "execution_count": null,
   "metadata": {},
   "outputs": [],
   "source": []
  }
 ],
 "metadata": {
  "kernelspec": {
   "display_name": "Python 3",
   "language": "python",
   "name": "python3"
  },
  "language_info": {
   "codemirror_mode": {
    "name": "ipython",
    "version": 3
   },
   "file_extension": ".py",
   "mimetype": "text/x-python",
   "name": "python",
   "nbconvert_exporter": "python",
   "pygments_lexer": "ipython3",
   "version": "3.8.3"
  }
 },
 "nbformat": 4,
 "nbformat_minor": 4
}
