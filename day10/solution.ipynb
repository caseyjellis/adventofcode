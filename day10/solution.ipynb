{
 "cells": [
  {
   "cell_type": "markdown",
   "metadata": {},
   "source": [
    "# Day 9: Smoke Basin\n",
    "\n",
    "### part 1:\n",
    "* look for low points in a map\n",
    "    * points where the height of every space adjacent cardinally is higher than the point\n",
    "* the risk of a point is the 1 + its hight"
   ]
  },
  {
   "cell_type": "code",
   "execution_count": 247,
   "metadata": {
    "tags": []
   },
   "outputs": [],
   "source": [
    "import numpy as np\n",
    "import copy\n",
    "import math"
   ]
  },
  {
   "cell_type": "code",
   "execution_count": 362,
   "metadata": {
    "tags": []
   },
   "outputs": [],
   "source": [
    "with open('input') as f:\n",
    "    floor_map = list(map(lambda n: [int(x) for x in list(n.strip())], f.readlines()))"
   ]
  },
  {
   "cell_type": "code",
   "execution_count": 363,
   "metadata": {},
   "outputs": [],
   "source": [
    "w = len(floor_map[0])\n",
    "l = len(floor_map)"
   ]
  },
  {
   "cell_type": "code",
   "execution_count": 364,
   "metadata": {},
   "outputs": [],
   "source": [
    "def check_point(x, y, grid):\n",
    "    vals = []\n",
    "    for x1, y1 in [(-1, 0), (1, 0), (0, -1), (0, 1)]:\n",
    "        if 0 <= x + x1 < w and 0 <= y + y1 < l:\n",
    "            vals.append(grid[y + y1][x + x1])\n",
    "\n",
    "    return grid[y][x] < min(vals)\n"
   ]
  },
  {
   "cell_type": "code",
   "execution_count": 365,
   "metadata": {
    "tags": []
   },
   "outputs": [],
   "source": [
    "low_points = []\n",
    "for y in range(l):\n",
    "    for x in range(w):\n",
    "        if check_point(x, y, floor_map):\n",
    "            low_points.append(floor_map[y][x])"
   ]
  },
  {
   "cell_type": "code",
   "execution_count": 366,
   "metadata": {},
   "outputs": [
    {
     "name": "stdout",
     "output_type": "stream",
     "text": [
      "part 1:  603\n"
     ]
    }
   ],
   "source": [
    "print('part 1: ', sum(low_points) + len(low_points))"
   ]
  },
  {
   "cell_type": "markdown",
   "metadata": {},
   "source": [
    "### part 2:\n",
    "* all points except those of height 9 are part of a basin around the nearest low point\n",
    "* what do we get if we multiply together the size of the three largest basins?"
   ]
  },
  {
   "cell_type": "code",
   "execution_count": null,
   "metadata": {},
   "outputs": [],
   "source": [
    "map_marked = copy.deepcopy(floor_map)"
   ]
  },
  {
   "cell_type": "code",
   "execution_count": 369,
   "metadata": {},
   "outputs": [],
   "source": [
    "def basin_search(x, y, grid):\n",
    "   \n",
    "    if not 0<=x<w or not 0<=y<l or grid[y][x] == 9:\n",
    "        return 0\n",
    "\n",
    "    grid[y][x] = 9\n",
    "    \n",
    "    count = 1\n",
    "    \n",
    "    for x1, y1 in [(-1, 0), (1, 0), (0, -1), (0, 1)]:\n",
    "        count += basin_search(x + x1, y+y1, grid)\n",
    "    \n",
    "    return count"
   ]
  },
  {
   "cell_type": "code",
   "execution_count": 370,
   "metadata": {
    "tags": []
   },
   "outputs": [],
   "source": [
    "basins = []\n",
    "for y in range(l):\n",
    "    for x in range(w):\n",
    "        b = basin_search(x, y, map_marked)\n",
    "        basins.append(b)"
   ]
  },
  {
   "cell_type": "code",
   "execution_count": 371,
   "metadata": {
    "tags": []
   },
   "outputs": [
    {
     "name": "stdout",
     "output_type": "stream",
     "text": [
      "part 2:  786780\n"
     ]
    }
   ],
   "source": [
    "basins.sort()\n",
    "\n",
    "print('part 2: ', math.prod(basins[-3:]))"
   ]
  },
  {
   "cell_type": "code",
   "execution_count": null,
   "metadata": {},
   "outputs": [],
   "source": []
  },
  {
   "cell_type": "code",
   "execution_count": null,
   "metadata": {},
   "outputs": [],
   "source": []
  }
 ],
 "metadata": {
  "kernelspec": {
   "display_name": "Python 3 (ipykernel)",
   "language": "python",
   "name": "python3"
  },
  "language_info": {
   "codemirror_mode": {
    "name": "ipython",
    "version": 3
   },
   "file_extension": ".py",
   "mimetype": "text/x-python",
   "name": "python",
   "nbconvert_exporter": "python",
   "pygments_lexer": "ipython3",
   "version": "3.9.7"
  }
 },
 "nbformat": 4,
 "nbformat_minor": 4
}
