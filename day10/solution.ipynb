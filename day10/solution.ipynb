{
 "cells": [
  {
   "cell_type": "markdown",
   "metadata": {
    "tags": []
   },
   "source": [
    "# Day 10 : Syntax Scoring\n",
    "\n",
    "### part 1:\n",
    "    * look for unmatched pairs of parentheses \n",
    "    * scored based on the first illegal character found\n",
    "        * ): 3 points.\n",
    "        * ]: 57 points.\n",
    "        * }: 1197 points.\n",
    "        * \\\\>: 25137 points"
   ]
  },
  {
   "cell_type": "code",
   "execution_count": 1,
   "metadata": {
    "tags": []
   },
   "outputs": [],
   "source": [
    "import numpy as np\n",
    "import copy\n",
    "import math\n",
    "import statistics"
   ]
  },
  {
   "cell_type": "code",
   "execution_count": 2,
   "metadata": {
    "tags": []
   },
   "outputs": [],
   "source": [
    "with open('input') as f:\n",
    "    lines = map(lambda line: line.strip(), f.readlines())"
   ]
  },
  {
   "cell_type": "code",
   "execution_count": 3,
   "metadata": {},
   "outputs": [],
   "source": [
    "opens = [ \"{\", \"(\", \"[\", \"<\" ]\n",
    "closes = [ \"}\", \")\", \"]\", \">\" ]\n",
    "pairs = [(\"{\", \"}\"), (\"(\", \")\"), (\"[\", \"]\"), (\"<\", \">\")]"
   ]
  },
  {
   "cell_type": "code",
   "execution_count": 4,
   "metadata": {},
   "outputs": [],
   "source": [
    "scores = {\n",
    "    \")\": 3,\n",
    "    \"]\": 57,\n",
    "    \"}\": 1197,\n",
    "    \">\": 25137\n",
    "}"
   ]
  },
  {
   "cell_type": "code",
   "execution_count": 5,
   "metadata": {},
   "outputs": [
    {
     "name": "stdout",
     "output_type": "stream",
     "text": [
      "part 1:  392367\n"
     ]
    }
   ],
   "source": [
    "score = 0\n",
    "\n",
    "for line in lines:\n",
    "    read = []\n",
    "\n",
    "    for c in line:\n",
    "        if c in opens:\n",
    "            read.append(c)\n",
    "            \n",
    "        else:\n",
    "            if c != closes[opens.index(read.pop())]:\n",
    "                score += scores[c]\n",
    "                break\n",
    "    \n",
    "print('part 1: ', score)"
   ]
  },
  {
   "cell_type": "markdown",
   "metadata": {},
   "source": [
    "### part 2:\n",
    "* discard lines with errors. the remaining lines are incomplete. \n",
    "* we need to find what would complete them\n",
    "* scoring:\n",
    "    * for each character found, multiply the existing score by 5 and add the value of the new character\n",
    "        * ): 1 point.\n",
    "        * ]: 2 points.\n",
    "        * }: 3 points.\n",
    "        * \\>: 4 points.\n",
    "    * then sort and take the middle score "
   ]
  },
  {
   "cell_type": "code",
   "execution_count": 6,
   "metadata": {},
   "outputs": [],
   "source": [
    "with open('input') as f:\n",
    "    lines = map(lambda line: line.strip(), f.readlines())"
   ]
  },
  {
   "cell_type": "code",
   "execution_count": 7,
   "metadata": {},
   "outputs": [],
   "source": [
    "#backwards from the prompt\n",
    "scores2 = {\n",
    "    \"(\":1,\n",
    "    \"[\":2,\n",
    "    \"{\":3,\n",
    "    \"<\":4\n",
    "}"
   ]
  },
  {
   "cell_type": "code",
   "execution_count": 8,
   "metadata": {},
   "outputs": [],
   "source": [
    "score2 = []\n",
    "\n",
    "for line in lines:\n",
    "    read = []\n",
    "    errs = False\n",
    "\n",
    "    for c in line:\n",
    "        if c in opens:\n",
    "            read.append(c)\n",
    "            \n",
    "        else:\n",
    "            if c != closes[opens.index(read.pop())]:\n",
    "                errs = True\n",
    "                break\n",
    "       \n",
    "    if not errs:\n",
    "        sc=0\n",
    "        for l in range(len(read)):\n",
    "            sc = 5 * sc + scores2[read.pop()]\n",
    "        score2.append(sc)"
   ]
  },
  {
   "cell_type": "code",
   "execution_count": 9,
   "metadata": {},
   "outputs": [
    {
     "name": "stdout",
     "output_type": "stream",
     "text": [
      "part 2:  2192104158\n"
     ]
    }
   ],
   "source": [
    "print('part 2: ', statistics.median(score2))"
   ]
  },
  {
   "cell_type": "code",
   "execution_count": null,
   "metadata": {},
   "outputs": [],
   "source": []
  }
 ],
 "metadata": {
  "kernelspec": {
   "display_name": "Python 3 (ipykernel)",
   "language": "python",
   "name": "python3"
  },
  "language_info": {
   "codemirror_mode": {
    "name": "ipython",
    "version": 3
   },
   "file_extension": ".py",
   "mimetype": "text/x-python",
   "name": "python",
   "nbconvert_exporter": "python",
   "pygments_lexer": "ipython3",
   "version": "3.9.7"
  }
 },
 "nbformat": 4,
 "nbformat_minor": 4
}
