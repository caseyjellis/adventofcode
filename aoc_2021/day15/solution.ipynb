{
 "cells": [
  {
   "cell_type": "markdown",
   "metadata": {},
   "source": [
    "# Day 15: Chiton\n",
    "\n",
    "### part 1:\n",
    "* given a map of risk levels, find the route from top to bottom with the lowest possible risk level\n",
    "* score is accumulated as a postiion is entered, so the starting position does not count "
   ]
  },
  {
   "cell_type": "code",
   "execution_count": 1,
   "metadata": {
    "tags": []
   },
   "outputs": [],
   "source": [
    "from heapq import heappush, heappop\n",
    "import copy\n",
    "from collections import defaultdict"
   ]
  },
  {
   "cell_type": "code",
   "execution_count": 2,
   "metadata": {
    "tags": []
   },
   "outputs": [],
   "source": [
    "with open(\"input\") as f:\n",
    "    risk_scores = list(map(lambda n: [int(x) for x in list(n.strip())], f.readlines()))"
   ]
  },
  {
   "cell_type": "code",
   "execution_count": 3,
   "metadata": {},
   "outputs": [],
   "source": [
    "def get_adj(x, y, grid):\n",
    "    w = len(grid[0])\n",
    "    l = len(grid)\n",
    "    vals = []\n",
    "    \n",
    "    for x1, y1 in [(-1, 0), (1, 0), (0, -1), (0, 1)]:\n",
    "        if 0 <= x + x1 < w and 0 <= y + y1 < l:\n",
    "            vals.append(((y + y1),(x + x1)))\n",
    "\n",
    "    return vals"
   ]
  },
  {
   "cell_type": "code",
   "execution_count": 4,
   "metadata": {},
   "outputs": [],
   "source": [
    "def dijkstra(graph):\n",
    "    w = len(graph[0])\n",
    "    l = len(graph)\n",
    "    \n",
    "    distance = [[float('inf') for n in range(len(graph[0]))] for m in range(len(graph))]\n",
    "    distance[0][0] = 0\n",
    "    \n",
    "    queue = {(y, x) for y in range(l) for x in range(w)}\n",
    "    \n",
    "    while len(queue) > 0:\n",
    "        y, x = min(queue, key=lambda z: distance[z[0]][z[1]])\n",
    "        queue.remove((y, x))\n",
    "        \n",
    "        for y1, x1 in get_adj(x, y, graph):\n",
    "            alt = distance[y][x] + graph[y1][x1]\n",
    "            if alt < distance[y1][x1]:\n",
    "                distance[y1][x1] = alt\n",
    "                \n",
    "    return distance"
   ]
  },
  {
   "cell_type": "code",
   "execution_count": 5,
   "metadata": {},
   "outputs": [
    {
     "name": "stdout",
     "output_type": "stream",
     "text": [
      "part 1:  503\n"
     ]
    }
   ],
   "source": [
    "print('part 1: ', dijkstra(risk_scores)[-1][-1])"
   ]
  },
  {
   "cell_type": "markdown",
   "metadata": {},
   "source": [
    "### part 2\n",
    "* the cave is actually 5x larger than we though, the area scanned is one tile in a 5x5 area that forms the full map\n",
    "* each time a tile repeats right and down, its risk increases by 1, until it raches 9, then it wraps around to 1\n",
    "* what is the best path through the full map?"
   ]
  },
  {
   "cell_type": "code",
   "execution_count": 6,
   "metadata": {},
   "outputs": [],
   "source": [
    "def extend_cave(cave, cave_repeats):\n",
    "    for line in cave:\n",
    "        new_line = []\n",
    "        for inc in range(cave_repeats-1):\n",
    "            new_line += [(val + inc) % 9 + 1 for val in line]\n",
    "        line.extend(new_line)\n",
    "\n",
    "    new_rows = []\n",
    "    for inc in range(cave_repeats-1):\n",
    "        new_nums = []\n",
    "        for line in cave:\n",
    "            new_line = []\n",
    "            for val in line:\n",
    "                new_line.append((val + inc) % 9 + 1)\n",
    "            new_nums.append(new_line)\n",
    "        new_rows.extend(new_nums)\n",
    "    cave.extend(new_rows)\n",
    "    \n",
    "    return cave"
   ]
  },
  {
   "cell_type": "code",
   "execution_count": 7,
   "metadata": {},
   "outputs": [],
   "source": [
    "full_risk_scores = extend_cave(risk_scores, 5)"
   ]
  },
  {
   "cell_type": "code",
   "execution_count": 8,
   "metadata": {},
   "outputs": [
    {
     "name": "stdout",
     "output_type": "stream",
     "text": [
      "part 2: 2853\n"
     ]
    }
   ],
   "source": [
    "print('part 2: ', dijkstra(full_risk_scores)[-1][-1])"
   ]
  }
 ],
 "metadata": {
  "kernelspec": {
   "display_name": "Python 3",
   "language": "python",
   "name": "python3"
  },
  "language_info": {
   "codemirror_mode": {
    "name": "ipython",
    "version": 3
   },
   "file_extension": ".py",
   "mimetype": "text/x-python",
   "name": "python",
   "nbconvert_exporter": "python",
   "pygments_lexer": "ipython3",
   "version": "3.8.3"
  }
 },
 "nbformat": 4,
 "nbformat_minor": 4
}
