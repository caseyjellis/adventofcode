{
 "cells": [
  {
   "cell_type": "markdown",
   "metadata": {},
   "source": [
    "# Day 4: Giant Squid\n"
   ]
  },
  {
   "cell_type": "code",
   "execution_count": 1,
   "metadata": {},
   "outputs": [],
   "source": [
    "import numpy as np\n",
    "import copy\n",
    "\n",
    "boards = []\n",
    "\n",
    "with open('input') as f:\n",
    "    line = f.readline()\n",
    "    line = line.strip(\"\\n\")\n",
    "    nums = line.split(',')\n",
    "    nums = np.array(nums).astype('int')\n",
    "    f.readline()\n",
    "\n",
    "    board = []\n",
    "    for line in f:\n",
    "        if line == \"\\n\":\n",
    "            board = np.array(board)\n",
    "            board = board.astype('int')\n",
    "            boards.append(board)\n",
    "            board = []\n",
    "        else:\n",
    "            line = line.strip(\"\\n\")\n",
    "            mylist = line.split(\" \")\n",
    "            mylist = list(filter(('').__ne__, mylist))\n",
    "            board.append(mylist)\n",
    "    board = np.array(board)\n",
    "    board = board.astype('int')\n",
    "    boards.append(board)\n",
    "    \n",
    "boards_arch = copy.deepcopy(boards)"
   ]
  },
  {
   "cell_type": "markdown",
   "metadata": {},
   "source": [
    "### part 1\n",
    "*  find the winning bingo board\n",
    "* the score is the sum of the unmarked numbers * the number that was called last"
   ]
  },
  {
   "cell_type": "code",
   "execution_count": 2,
   "metadata": {},
   "outputs": [],
   "source": [
    "def pick_num(boards,num):\n",
    "    for board in boards:\n",
    "        board[board==num] = 0\n",
    "\n",
    "def check_win(board):\n",
    "    res = False\n",
    "    for row in board:\n",
    "        if sum(row) == 0:\n",
    "            res = True\n",
    "    for col in board.T:\n",
    "        if sum(col) == 0:\n",
    "            res = True\n",
    "    return res\n",
    "\n",
    "def play_bingo(boards, num):\n",
    "    win = False\n",
    "    pick_num(boards,num)\n",
    "    for board in boards:\n",
    "        if check_win(board):\n",
    "            win = True\n",
    "            print('part 1: ', np.sum(board)* num)\n",
    "    return win, board, num\n",
    "    "
   ]
  },
  {
   "cell_type": "code",
   "execution_count": 3,
   "metadata": {},
   "outputs": [
    {
     "name": "stdout",
     "output_type": "stream",
     "text": [
      "part 1:  69579\n"
     ]
    }
   ],
   "source": [
    "boards = copy.deepcopy(boards_arch)\n",
    "\n",
    "for num in nums:\n",
    "    win, board, num = play_bingo(boards,num)\n",
    "    if win: \n",
    "        break"
   ]
  },
  {
   "cell_type": "markdown",
   "metadata": {},
   "source": [
    "### part 2\n",
    "* figure out which board will win last "
   ]
  },
  {
   "cell_type": "code",
   "execution_count": 4,
   "metadata": {},
   "outputs": [],
   "source": [
    "def lose_bingo(boards, nums):\n",
    "    score = np.full(len(boards), 1)\n",
    "    i = 0\n",
    "    \n",
    "    while sum(score) > 1:\n",
    "        num = nums[i]\n",
    "        pick_num(boards,num)\n",
    "        i+=1\n",
    "        for j in range(len(boards)):\n",
    "            if check_win(boards[j]):\n",
    "                score[j] = 0\n",
    "\n",
    "    loser = (np.where(score == 1)[0][0])\n",
    "    board = boards[loser]\n",
    "    \n",
    "    while not check_win(board):\n",
    "        i+=1\n",
    "        num = nums[i]\n",
    "        board[board==num] = 0\n",
    "        if check_win(board):\n",
    "            win = True\n",
    "            print('part 2: ', np.sum(board)* num)\n",
    "\n",
    "    "
   ]
  },
  {
   "cell_type": "code",
   "execution_count": 5,
   "metadata": {},
   "outputs": [
    {
     "name": "stdout",
     "output_type": "stream",
     "text": [
      "part 2:  14877\n"
     ]
    }
   ],
   "source": [
    "boards = copy.deepcopy(boards_arch)\n",
    "\n",
    "lose_bingo(boards, nums)"
   ]
  }
 ],
 "metadata": {
  "kernelspec": {
   "display_name": "Python 3",
   "language": "python",
   "name": "python3"
  },
  "language_info": {
   "codemirror_mode": {
    "name": "ipython",
    "version": 3
   },
   "file_extension": ".py",
   "mimetype": "text/x-python",
   "name": "python",
   "nbconvert_exporter": "python",
   "pygments_lexer": "ipython3",
   "version": "3.8.3"
  }
 },
 "nbformat": 4,
 "nbformat_minor": 4
}
