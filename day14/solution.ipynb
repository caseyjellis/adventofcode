{
 "cells": [
  {
   "cell_type": "markdown",
   "metadata": {},
   "source": [
    "# Day 14: Extended Polymerization \n"
   ]
  },
  {
   "cell_type": "code",
   "execution_count": 1,
   "metadata": {
    "tags": []
   },
   "outputs": [],
   "source": [
    "import numpy as np\n",
    "import copy\n",
    "import math\n",
    "import statistics\n",
    "from collections import defaultdict"
   ]
  },
  {
   "cell_type": "code",
   "execution_count": 2,
   "metadata": {
    "tags": []
   },
   "outputs": [],
   "source": [
    "with open('test.txt') as f:\n",
    "    template, pairs = f.read().split(\"\\n\\n\")"
   ]
  },
  {
   "cell_type": "code",
   "execution_count": 3,
   "metadata": {},
   "outputs": [],
   "source": [
    "pairs = dict(map(lambda l: l.strip().split(' -> '), pairs.strip().split('\\n')))"
   ]
  },
  {
   "cell_type": "markdown",
   "metadata": {},
   "source": [
    "\n",
    "### part 1:\n",
    "* given a starting template and list of pairs, insert the given letter between the pairs found \n",
    "* scoring is the quantity of the most commmon element minus the quantity of the least common element \n"
   ]
  },
  {
   "cell_type": "code",
   "execution_count": 4,
   "metadata": {},
   "outputs": [],
   "source": [
    "def polymerize(temp, nsteps):\n",
    "    for i in range(nsteps):\n",
    "        polymer =  temp[0]\n",
    "        for n in range(len(temp)-1):\n",
    "            p = temp[n] + temp[n+1]\n",
    "            polymer += (pairs[p] + p[1])\n",
    "        temp = polymer\n",
    "    return temp"
   ]
  },
  {
   "cell_type": "code",
   "execution_count": 5,
   "metadata": {},
   "outputs": [],
   "source": [
    "def score(polymer):\n",
    "    scores = {e:0 for e in polymer}\n",
    "    for key in scores:\n",
    "        scores[key] = polymer.count(key)\n",
    "    return max(scores.values())-min(scores.values())"
   ]
  },
  {
   "cell_type": "code",
   "execution_count": 6,
   "metadata": {},
   "outputs": [],
   "source": [
    "steps = 10\n",
    "template_wrking = copy.deepcopy(template)"
   ]
  },
  {
   "cell_type": "code",
   "execution_count": 7,
   "metadata": {},
   "outputs": [
    {
     "name": "stdout",
     "output_type": "stream",
     "text": [
      "part 1:  1588\n"
     ]
    }
   ],
   "source": [
    "print('part 1: ',score(polymerize(template_wrking, steps)))"
   ]
  },
  {
   "cell_type": "markdown",
   "metadata": {},
   "source": [
    "### part 2:\n",
    "* ok now do it for 40 steps\n",
    "* brute forcing this worked but took too long "
   ]
  },
  {
   "cell_type": "code",
   "execution_count": 8,
   "metadata": {},
   "outputs": [],
   "source": [
    "steps = 40\n",
    "template_wrking = copy.deepcopy(template)"
   ]
  },
  {
   "cell_type": "code",
   "execution_count": 9,
   "metadata": {},
   "outputs": [],
   "source": [
    " def polymerize_dict(temp, nsteps):\n",
    "    counts = defaultdict(int)\n",
    "    for i in range(len(temp) - 1):\n",
    "        counts[temp[i : i + 2]] += 1\n",
    "        \n",
    "        \n",
    "    for i in range(nsteps):\n",
    "        new_counts = defaultdict(int)\n",
    "        for p, count in counts.items():\n",
    "            new_counts[p[0] + pairs[p]] += count\n",
    "            new_counts[pairs[p] + p[1]] += count\n",
    "        counts = new_counts\n",
    "\n",
    "    counters = defaultdict(int)\n",
    "    for p in counts:\n",
    "        for ch in p:\n",
    "            counters[ch] += counts[p]\n",
    "            \n",
    "    counters = {k: (v + 1) // 2 for k, v in counters.items()}\n",
    "    return max(counters.values()) - min(counters.values())\n",
    "\n"
   ]
  },
  {
   "cell_type": "code",
   "execution_count": 10,
   "metadata": {},
   "outputs": [
    {
     "name": "stdout",
     "output_type": "stream",
     "text": [
      "part 2:  2188189693529\n"
     ]
    }
   ],
   "source": [
    "print('part 2: ',polymerize_dict(template_wrking, steps))"
   ]
  },
  {
   "cell_type": "code",
   "execution_count": null,
   "metadata": {},
   "outputs": [],
   "source": []
  }
 ],
 "metadata": {
  "kernelspec": {
   "display_name": "Python 3",
   "language": "python",
   "name": "python3"
  },
  "language_info": {
   "codemirror_mode": {
    "name": "ipython",
    "version": 3
   },
   "file_extension": ".py",
   "mimetype": "text/x-python",
   "name": "python",
   "nbconvert_exporter": "python",
   "pygments_lexer": "ipython3",
   "version": "3.8.3"
  }
 },
 "nbformat": 4,
 "nbformat_minor": 4
}
