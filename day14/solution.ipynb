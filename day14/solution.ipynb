{
 "cells": [
  {
   "cell_type": "markdown",
   "metadata": {},
   "source": [
    "# Day 14: Extended Polymerization \n",
    "\n",
    "### part 1:\n",
    "* given a starting template and list of pairs, insert the given letter between the pairs found \n",
    "* scoring is the quantity of the most commmon element minus the quantity of the least common element \n"
   ]
  },
  {
   "cell_type": "code",
   "execution_count": 74,
   "metadata": {
    "tags": []
   },
   "outputs": [],
   "source": [
    "import numpy as np\n",
    "import copy\n",
    "import math\n",
    "import statistics\n",
    "from collections import defaultdict"
   ]
  },
  {
   "cell_type": "code",
   "execution_count": 119,
   "metadata": {
    "tags": []
   },
   "outputs": [],
   "source": [
    "with open('input') as f:\n",
    "    template, pairs = f.read().split(\"\\n\\n\")"
   ]
  },
  {
   "cell_type": "code",
   "execution_count": 120,
   "metadata": {},
   "outputs": [],
   "source": [
    "pairs = dict(map(lambda l: l.strip().split(' -> '), pairs.strip().split('\\n')))"
   ]
  },
  {
   "cell_type": "code",
   "execution_count": 121,
   "metadata": {},
   "outputs": [],
   "source": [
    "def polymerize(temp, nsteps):\n",
    "    for i in range(nsteps):\n",
    "        polymer =  temp[0]\n",
    "        for n in range(len(temp)-1):\n",
    "            p = temp[n] + temp[n+1]\n",
    "            polymer += (pairs[p] + p[1])\n",
    "        temp = polymer\n",
    "    return temp"
   ]
  },
  {
   "cell_type": "code",
   "execution_count": 122,
   "metadata": {},
   "outputs": [],
   "source": [
    "def score(polymer):\n",
    "    scores = {e:0 for e in polymer}\n",
    "    for key in scores:\n",
    "        scores[key] = polymer.count(key)\n",
    "    return max(scores.values())-min(scores.values())"
   ]
  },
  {
   "cell_type": "code",
   "execution_count": 123,
   "metadata": {},
   "outputs": [],
   "source": [
    "steps = 10\n",
    "template_wrking = copy.deepcopy(template)"
   ]
  },
  {
   "cell_type": "code",
   "execution_count": 124,
   "metadata": {},
   "outputs": [
    {
     "name": "stdout",
     "output_type": "stream",
     "text": [
      "part 1:  2233\n"
     ]
    }
   ],
   "source": [
    "print('part 1: ',score(polymerize(template_wrking, steps)))"
   ]
  },
  {
   "cell_type": "markdown",
   "metadata": {},
   "source": [
    "### part 2:\n",
    "* ok now do it for 40 steps"
   ]
  },
  {
   "cell_type": "code",
   "execution_count": 125,
   "metadata": {},
   "outputs": [],
   "source": [
    "steps = 40\n",
    "template_wrking = copy.deepcopy(template)"
   ]
  },
  {
   "cell_type": "code",
   "execution_count": null,
   "metadata": {},
   "outputs": [],
   "source": [
    "#i brute forced this but i cant recommend that as an elegant solution \n",
    "print('part 2: ',score(polymerize(template_wrking, steps)))"
   ]
  },
  {
   "cell_type": "code",
   "execution_count": null,
   "metadata": {},
   "outputs": [],
   "source": []
  }
 ],
 "metadata": {
  "kernelspec": {
   "display_name": "Python 3",
   "language": "python",
   "name": "python3"
  },
  "language_info": {
   "codemirror_mode": {
    "name": "ipython",
    "version": 3
   },
   "file_extension": ".py",
   "mimetype": "text/x-python",
   "name": "python",
   "nbconvert_exporter": "python",
   "pygments_lexer": "ipython3",
   "version": "3.8.3"
  }
 },
 "nbformat": 4,
 "nbformat_minor": 4
}
