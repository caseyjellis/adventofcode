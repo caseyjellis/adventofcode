{
 "cells": [
  {
   "cell_type": "markdown",
   "metadata": {},
   "source": [
    "# Day 15: Chiton\n",
    "\n",
    "### part 1:\n",
    "* given a map of risk levels, find the route from top to bottom with the lowest possible risk level\n",
    "* score is accumulated as a postiion is entered, so the starting position does not count "
   ]
  },
  {
   "cell_type": "code",
   "execution_count": 47,
   "metadata": {
    "tags": []
   },
   "outputs": [],
   "source": [
    "import heapq\n",
    "import copy\n",
    "from collections import defaultdict"
   ]
  },
  {
   "cell_type": "code",
   "execution_count": 48,
   "metadata": {
    "tags": []
   },
   "outputs": [],
   "source": [
    "with open(\"input\") as f:\n",
    "    risk_scores = list(map(lambda n: [int(x) for x in list(n.strip())], f.readlines()))"
   ]
  },
  {
   "cell_type": "code",
   "execution_count": 49,
   "metadata": {},
   "outputs": [],
   "source": [
    "l = len(risk)\n",
    "w = len(risk[0])"
   ]
  },
  {
   "cell_type": "code",
   "execution_count": 50,
   "metadata": {},
   "outputs": [],
   "source": [
    "score = defaultdict(int)"
   ]
  },
  {
   "cell_type": "code",
   "execution_count": 51,
   "metadata": {},
   "outputs": [],
   "source": [
    "pq = [(0, 0, 0)]\n",
    "heapq.heapify(pq)\n",
    "visited = set()"
   ]
  },
  {
   "cell_type": "code",
   "execution_count": 52,
   "metadata": {},
   "outputs": [],
   "source": [
    "risk = copy.deepcopy(risk_scores)"
   ]
  },
  {
   "cell_type": "code",
   "execution_count": 53,
   "metadata": {},
   "outputs": [
    {
     "name": "stdout",
     "output_type": "stream",
     "text": [
      "503\n"
     ]
    }
   ],
   "source": [
    "while len(pq) > 0:\n",
    "    c, row, col = heapq.heappop(pq)\n",
    "\n",
    "    if (row, col) in visited:\n",
    "        continue\n",
    "    visited.add((row, col))\n",
    "\n",
    "    score[(row, col)] = c\n",
    "\n",
    "    if row == l - 1 and col == w - 1:\n",
    "        break\n",
    "\n",
    "    for dr, dc in [(0, 1), (0, -1), (1, 0), (-1, 0)]:\n",
    "        rr = row + dr\n",
    "        cc = col + dc\n",
    "        if not (0 <= rr < l and 0 <= cc < w):\n",
    "            continue\n",
    "\n",
    "        heapq.heappush(pq, (c + risk[rr][cc], rr, cc))\n",
    "\n",
    "\n",
    "print(score[(l - 1, w - 1)])"
   ]
  },
  {
   "cell_type": "code",
   "execution_count": null,
   "metadata": {},
   "outputs": [],
   "source": []
  },
  {
   "cell_type": "code",
   "execution_count": null,
   "metadata": {},
   "outputs": [],
   "source": []
  },
  {
   "cell_type": "code",
   "execution_count": null,
   "metadata": {},
   "outputs": [],
   "source": []
  }
 ],
 "metadata": {
  "kernelspec": {
   "display_name": "Python 3",
   "language": "python",
   "name": "python3"
  },
  "language_info": {
   "codemirror_mode": {
    "name": "ipython",
    "version": 3
   },
   "file_extension": ".py",
   "mimetype": "text/x-python",
   "name": "python",
   "nbconvert_exporter": "python",
   "pygments_lexer": "ipython3",
   "version": "3.8.3"
  }
 },
 "nbformat": 4,
 "nbformat_minor": 4
}
