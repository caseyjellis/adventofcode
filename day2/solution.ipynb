{
 "cells": [
  {
   "cell_type": "markdown",
   "metadata": {},
   "source": [
    "# Day 2: Dive!\n",
    "* Calculate the horizontal position and depth you would have after following the planned course. \n",
    "* What do you get if you multiply your final horizontal position by your final depth?"
   ]
  },
  {
   "cell_type": "code",
   "execution_count": 25,
   "metadata": {},
   "outputs": [],
   "source": [
    "with open('input') as f:\n",
    "    inpts = [n.strip() for n in f.readlines()]"
   ]
  },
  {
   "cell_type": "markdown",
   "metadata": {},
   "source": [
    "### part 1\n",
    "\n",
    "* forward X increases the horizontal position by X units.\n",
    "*  down X increases the depth by X units.\n",
    "*  up X decreases the depth by X units."
   ]
  },
  {
   "cell_type": "code",
   "execution_count": 29,
   "metadata": {},
   "outputs": [
    {
     "name": "stdout",
     "output_type": "stream",
     "text": [
      "part 1:  2039256\n"
     ]
    }
   ],
   "source": [
    "pos = depth = 0\n",
    "    \n",
    "for line in inpts:\n",
    "    step, x = line.split()\n",
    "    x = int(x)\n",
    "\n",
    "    if step == 'forward':\n",
    "        pos += x\n",
    "    elif step == 'down':\n",
    "        depth += x\n",
    "    elif step == 'up':\n",
    "        depth -= x\n",
    "    else:\n",
    "        print('thats not a real direction')\n",
    "        break\n",
    "\n",
    "print('part 1: ', pos * depth)"
   ]
  },
  {
   "cell_type": "markdown",
   "metadata": {},
   "source": [
    "### part 2\n",
    "\n",
    "* down X increases your aim by X units.\n",
    "*  up X decreases your aim by X units.\n",
    "*  forward X does two things:\n",
    "    *      It increases your horizontal position by X units.\n",
    "    * It increases your depth by your aim multiplied by X."
   ]
  },
  {
   "cell_type": "code",
   "execution_count": 30,
   "metadata": {},
   "outputs": [
    {
     "name": "stdout",
     "output_type": "stream",
     "text": [
      "part 2:  1856459736\n"
     ]
    }
   ],
   "source": [
    "pos = depth = aim = 0\n",
    "\n",
    "for line in inpts:\n",
    "    step, x = line.split()\n",
    "    x = int(x)\n",
    "\n",
    "    if step == 'forward':\n",
    "        pos += x\n",
    "        depth += aim * x\n",
    "    elif step == 'down':\n",
    "        aim += x\n",
    "    elif step == 'up':\n",
    "        aim -= x\n",
    "    else:\n",
    "        print('thats not a real direction')\n",
    "        break\n",
    "\n",
    "print('part 2: ', pos * depth)"
   ]
  },
  {
   "cell_type": "code",
   "execution_count": null,
   "metadata": {},
   "outputs": [],
   "source": []
  }
 ],
 "metadata": {
  "kernelspec": {
   "display_name": "Python 3",
   "language": "python",
   "name": "python3"
  },
  "language_info": {
   "codemirror_mode": {
    "name": "ipython",
    "version": 3
   },
   "file_extension": ".py",
   "mimetype": "text/x-python",
   "name": "python",
   "nbconvert_exporter": "python",
   "pygments_lexer": "ipython3",
   "version": "3.8.3"
  }
 },
 "nbformat": 4,
 "nbformat_minor": 4
}
