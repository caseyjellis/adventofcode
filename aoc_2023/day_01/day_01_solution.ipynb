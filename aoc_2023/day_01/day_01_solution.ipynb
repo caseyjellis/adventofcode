{
 "cells": [
  {
   "cell_type": "markdown",
   "id": "c57d60ed-abd4-42cd-94c2-b67906037422",
   "metadata": {},
   "source": [
    "# Day 1: Trebuchet?!\n",
    "* part 1: find the first and last digit of each line, and combine them to create a single number."
   ]
  },
  {
   "cell_type": "code",
   "execution_count": 1,
   "id": "6e59409d-6fac-4b99-96d4-f0c838b77dbe",
   "metadata": {},
   "outputs": [],
   "source": [
    "with open(\"day_01/input.txt\") as f:\n",
    "    inpts = f.readlines()"
   ]
  },
  {
   "cell_type": "code",
   "execution_count": 2,
   "id": "3e846932-b22f-4e84-8674-bb6098ac8dbd",
   "metadata": {},
   "outputs": [
    {
     "name": "stdout",
     "output_type": "stream",
     "text": [
      "55090\n"
     ]
    }
   ],
   "source": [
    "import re\n",
    "ans = 0\n",
    "\n",
    "for l in inpts:\n",
    "    digits = re.findall(r\"\\d\", l)\n",
    "    ans += int(digits[0] + digits[-1])\n",
    "\n",
    "print(ans)"
   ]
  },
  {
   "cell_type": "markdown",
   "id": "789c89c8-59f1-47fd-90c3-bd08c3e6f0d6",
   "metadata": {},
   "source": [
    "* part 2: some digits are spelled out, include them in the calculation "
   ]
  },
  {
   "cell_type": "code",
   "execution_count": 3,
   "id": "92edb531-02d3-49e9-bc20-248c412aa736",
   "metadata": {},
   "outputs": [],
   "source": [
    "digit_list = ['zero', 'one', 'two', 'three', 'four', 'five', 'six', 'seven', 'eight', 'nine']"
   ]
  },
  {
   "cell_type": "code",
   "execution_count": 4,
   "id": "a1286d05-5a1d-4553-809e-5e8c2a35d404",
   "metadata": {},
   "outputs": [],
   "source": [
    "def word_replace(n):\n",
    "    if n in digit_list:\n",
    "        return str(digit_list.index(n))\n",
    "    else:\n",
    "        return n"
   ]
  },
  {
   "cell_type": "code",
   "execution_count": 5,
   "id": "890d2002-9323-4235-a449-3fc8cddf963a",
   "metadata": {},
   "outputs": [
    {
     "name": "stdout",
     "output_type": "stream",
     "text": [
      "54845\n"
     ]
    }
   ],
   "source": [
    "ans=0\n",
    "\n",
    "for l in inpts:\n",
    "    digits = list(map(word_replace, re.findall(r\"(?=(zero|one|two|three|four|five|six|seven|eight|nine|\\d))\", l)))\n",
    "    ans += int(digits[0] + digits[-1])\n",
    "    \n",
    "print(ans)"
   ]
  }
 ],
 "metadata": {
  "kernelspec": {
   "display_name": "Python 3 (ipykernel)",
   "language": "python",
   "name": "python3"
  },
  "language_info": {
   "codemirror_mode": {
    "name": "ipython",
    "version": 3
   },
   "file_extension": ".py",
   "mimetype": "text/x-python",
   "name": "python",
   "nbconvert_exporter": "python",
   "pygments_lexer": "ipython3",
   "version": "3.9.7"
  }
 },
 "nbformat": 4,
 "nbformat_minor": 5
}
