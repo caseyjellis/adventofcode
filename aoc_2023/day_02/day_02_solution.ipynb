{
 "cells": [
  {
   "cell_type": "markdown",
   "id": "c57d60ed-abd4-42cd-94c2-b67906037422",
   "metadata": {},
   "source": [
    "# Day 2: Cube Conundrum"
   ]
  },
  {
   "cell_type": "code",
   "execution_count": 8,
   "id": "6e59409d-6fac-4b99-96d4-f0c838b77dbe",
   "metadata": {},
   "outputs": [],
   "source": [
    "with open('input') as f:\n",
    "     for l in f:\n",
    "        game, results = l.strip().split(': ')\n",
    "        id = int(game.split(' ')[1])\n",
    "\n",
    "        possible = True\n",
    "        \n",
    "        "
   ]
  }
 ],
 "metadata": {
  "kernelspec": {
   "display_name": "Python 3 (ipykernel)",
   "language": "python",
   "name": "python3"
  },
  "language_info": {
   "codemirror_mode": {
    "name": "ipython",
    "version": 3
   },
   "file_extension": ".py",
   "mimetype": "text/x-python",
   "name": "python",
   "nbconvert_exporter": "python",
   "pygments_lexer": "ipython3",
   "version": "3.9.7"
  }
 },
 "nbformat": 4,
 "nbformat_minor": 5
}
