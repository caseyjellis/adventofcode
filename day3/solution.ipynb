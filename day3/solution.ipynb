{
 "cells": [
  {
   "cell_type": "markdown",
   "metadata": {},
   "source": [
    "# Day 3: Binary Diagnostic\n",
    "*  generate two new binary numbers (called the gamma rate and the epsilon rate)\n",
    "* Use the binary numbers in your diagnostic report to calculate the gamma rate and epsilon rate, then multiply them together. What is the power consumption of the submarine?"
   ]
  },
  {
   "cell_type": "code",
   "execution_count": 81,
   "metadata": {},
   "outputs": [],
   "source": [
    "with open('input') as f:\n",
    "    inpts = [n.strip() for n in f.readlines()]"
   ]
  },
  {
   "cell_type": "markdown",
   "metadata": {},
   "source": [
    "### part 1\n",
    "\n",
    "* Each bit in the gamma rate can be determined by finding the most common bit in the corresponding position of all numbers in the diagnostic report. \n",
    "* The epsilon rate is calculated using the least common bit from each position."
   ]
  },
  {
   "cell_type": "code",
   "execution_count": 122,
   "metadata": {},
   "outputs": [],
   "source": [
    "gamma = epsilon = ''"
   ]
  },
  {
   "cell_type": "code",
   "execution_count": 123,
   "metadata": {},
   "outputs": [],
   "source": [
    "#for each place in the byte, cycle through each number and get a list of their values\n",
    "#then assign the appropriate value in that place for gamma and epsilon \n",
    "\n",
    "for i in range(len(inpts[0])):\n",
    "    digit = [n[i] for n in inpts]\n",
    "    if digit.count('0') > digit.count('1'):\n",
    "        gamma += '0'\n",
    "        epsilon += '1'\n",
    "    else:\n",
    "        gamma += '1'\n",
    "        epsilon += '0'"
   ]
  },
  {
   "cell_type": "code",
   "execution_count": 128,
   "metadata": {},
   "outputs": [
    {
     "name": "stdout",
     "output_type": "stream",
     "text": [
      "part 1:  749376\n"
     ]
    }
   ],
   "source": [
    "print('part 1: ', int(gamma,2) * int(epsilon,2))"
   ]
  },
  {
   "cell_type": "markdown",
   "metadata": {},
   "source": [
    "### part 2\n",
    "\n",
    "* Keep only numbers selected by the bit criteria for the type of rating value for which you are searching. Discard numbers which do not match the bit criteria.\n",
    "* If you only have one number left, stop; this is the rating value for which you are searching.\n",
    "* Otherwise, repeat the process, considering the next bit to the right.\n",
    "\n",
    "The bit criteria depends on which type of rating value you want to find:\n",
    "\n",
    "* To find oxygen generator rating, determine the most common value (0 or 1) in the current bit position, and keep only numbers with that bit in that position. If 0 and 1 are equally common, keep values with a 1 in the position being considered.\n",
    "* To find CO2 scrubber rating, determine the least common value (0 or 1) in the current bit position, and keep only numbers with that bit in that position. If 0 and 1 are equally common, keep values with a 0 in the position being considered.\n"
   ]
  },
  {
   "cell_type": "code",
   "execution_count": 308,
   "metadata": {},
   "outputs": [],
   "source": [
    "def num_selector(nums, most_common):\n",
    "    new_nums = []\n",
    "    place = 0\n",
    "    \n",
    "    #starting at the beginning, determine which value is more common\n",
    "    #if we want the less common value, invert it\n",
    "    #then make a list of all the numbers with that digit at the current place\n",
    "    #then the process starts over, looking at the next place. this will run for as long as there is more than 1 number left\n",
    "    \n",
    "    while len(nums) > 1:\n",
    "       \n",
    "        digit = [n[place] for n in nums] \n",
    "\n",
    "        if digit.count('1') >= digit.count('0'):\n",
    "                val = 1\n",
    "        else:\n",
    "                val = 0\n",
    "    \n",
    "        if not most_common: val = abs(val -1)\n",
    "            \n",
    "        new_nums =  [nums[m] for m in range(len(digit)) if int(digit[m]) == val]   \n",
    "        \n",
    "        nums = new_nums\n",
    "        place += 1\n",
    "    return nums[0]\n",
    "        "
   ]
  },
  {
   "cell_type": "code",
   "execution_count": 309,
   "metadata": {},
   "outputs": [],
   "source": [
    "o2 = num_selector(inpts, True)\n",
    "co2 = num_selector(inpts, False)"
   ]
  },
  {
   "cell_type": "code",
   "execution_count": 310,
   "metadata": {},
   "outputs": [
    {
     "name": "stdout",
     "output_type": "stream",
     "text": [
      "part 2:  2372923\n"
     ]
    }
   ],
   "source": [
    "print('part 2: ' , int(o2,2) * int(co2,2))"
   ]
  }
 ],
 "metadata": {
  "kernelspec": {
   "display_name": "Python 3",
   "language": "python",
   "name": "python3"
  },
  "language_info": {
   "codemirror_mode": {
    "name": "ipython",
    "version": 3
   },
   "file_extension": ".py",
   "mimetype": "text/x-python",
   "name": "python",
   "nbconvert_exporter": "python",
   "pygments_lexer": "ipython3",
   "version": "3.8.3"
  }
 },
 "nbformat": 4,
 "nbformat_minor": 4
}
