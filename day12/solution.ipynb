{
 "cells": [
  {
   "cell_type": "markdown",
   "metadata": {},
   "source": [
    "# Day 12: Passage Pathing\n",
    "\n",
    "### part 1:\n",
    "* given segments of a cave, find all possible paths through the cave without visiting small caves more than once \n"
   ]
  },
  {
   "cell_type": "markdown",
   "metadata": {},
   "source": [
    "### part 2\n",
    "* now we can visit a single small cave exactly once"
   ]
  },
  {
   "cell_type": "code",
   "execution_count": 1,
   "metadata": {
    "tags": []
   },
   "outputs": [],
   "source": [
    "import numpy as np\n",
    "import copy\n",
    "import math\n",
    "import statistics\n",
    "from collections import defaultdict"
   ]
  },
  {
   "cell_type": "code",
   "execution_count": 2,
   "metadata": {
    "tags": []
   },
   "outputs": [],
   "source": [
    "with open(\"input\") as f:\n",
    "    raw = f.read().strip()"
   ]
  },
  {
   "cell_type": "code",
   "execution_count": 3,
   "metadata": {},
   "outputs": [],
   "source": [
    "connections = defaultdict(list)"
   ]
  },
  {
   "cell_type": "code",
   "execution_count": 4,
   "metadata": {},
   "outputs": [],
   "source": [
    "for l in raw.split(\"\\n\"):\n",
    "    a,b = l.split(\"-\") \n",
    "    connections[a].append(b)\n",
    "    connections[b].append(a)       "
   ]
  },
  {
   "cell_type": "code",
   "execution_count": 5,
   "metadata": {
    "tags": []
   },
   "outputs": [],
   "source": [
    "def spelunk(cave='start', visited=set(), revisited=True):\n",
    "    if cave == \"end\": return 1\n",
    "\n",
    "    num_paths = 0\n",
    "    now_visited  = visited | {cave}\n",
    "    \n",
    "    for c in connections[cave]:\n",
    "        if c == \"start\": \n",
    "            continue\n",
    "        elif c.isupper() or c not in visited:\n",
    "            num_paths += spelunk(c, now_visited, revisited)\n",
    "        elif not revisited:\n",
    "            num_paths += spelunk(c, now_visited, True)\n",
    "    \n",
    "    return num_paths"
   ]
  },
  {
   "cell_type": "code",
   "execution_count": 6,
   "metadata": {},
   "outputs": [
    {
     "name": "stdout",
     "output_type": "stream",
     "text": [
      "part 1:  4773\n"
     ]
    }
   ],
   "source": [
    "print('part 1: ', spelunk())"
   ]
  },
  {
   "cell_type": "code",
   "execution_count": 7,
   "metadata": {},
   "outputs": [
    {
     "name": "stdout",
     "output_type": "stream",
     "text": [
      "part 2:  116985\n"
     ]
    }
   ],
   "source": [
    "print('part 2: ', spelunk(revisited=False))"
   ]
  }
 ],
 "metadata": {
  "kernelspec": {
   "display_name": "Python 3 (ipykernel)",
   "language": "python",
   "name": "python3"
  },
  "language_info": {
   "codemirror_mode": {
    "name": "ipython",
    "version": 3
   },
   "file_extension": ".py",
   "mimetype": "text/x-python",
   "name": "python",
   "nbconvert_exporter": "python",
   "pygments_lexer": "ipython3",
   "version": "3.9.7"
  }
 },
 "nbformat": 4,
 "nbformat_minor": 4
}
